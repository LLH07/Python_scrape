{
 "cells": [
  {
   "cell_type": "markdown",
   "metadata": {},
   "source": [
    "## 先看完 scrape.ipynb 再來看這裡:"
   ]
  },
  {
   "cell_type": "markdown",
   "metadata": {},
   "source": [
    "### <font color='green'>目標: 爬出網站的所有標題，內容，影片連結，並創建一個 csv 檔，建立 table 儲存所有資料。</font>"
   ]
  },
  {
   "cell_type": "code",
   "execution_count": 2,
   "metadata": {},
   "outputs": [],
   "source": [
    "from bs4 import BeautifulSoup\n",
    "import requests\n",
    "import csv"
   ]
  },
  {
   "cell_type": "code",
   "execution_count": 3,
   "metadata": {},
   "outputs": [],
   "source": [
    "source = requests.get('https://coreyms.com/').text\n",
    "soup = BeautifulSoup(source, 'lxml')"
   ]
  },
  {
   "cell_type": "code",
   "execution_count": 15,
   "metadata": {
    "scrolled": true
   },
   "outputs": [
    {
     "name": "stdout",
     "output_type": "stream",
     "text": [
      "Python Tutorial: Zip Files – Creating and Extracting Zip Archives\n",
      "\n",
      "In this video, we will be learning how to create and extract zip archives. We will start by using the zipfile module, and then we will see how to do this using the shutil module. We will learn how to do this with single files and directories, as well as learning how to use gzip as well. Let’s get started…\n",
      "\n",
      "\n",
      "https://youtube.com/watch?v=z0gguhEmWiY\n",
      "\n",
      "Python Data Science Tutorial: Analyzing the 2019 Stack Overflow Developer Survey\n",
      "\n",
      "In this Python Programming video, we will be learning how to download and analyze real-world data from the 2019 Stack Overflow Developer Survey. This is terrific practice for anyone getting into the data science field. We will learn different ways to analyze this data and also some best practices. Let’s get started…\n",
      "\n",
      "\n",
      "\n",
      "\n",
      "https://youtube.com/watch?v=_P7X8tMplsw\n",
      "\n",
      "Python Multiprocessing Tutorial: Run Code in Parallel Using the Multiprocessing Module\n",
      "\n",
      "In this Python Programming video, we will be learning how to run code in parallel using the multiprocessing module. We will also look at how to process multiple high-resolution images at the same time using a ProcessPoolExecutor from the concurrent.futures module. Let’s get started…\n",
      "\n",
      "\n",
      "\n",
      "\n",
      "https://youtube.com/watch?v=fKl2JW_qrso\n",
      "\n",
      "Python Threading Tutorial: Run Code Concurrently Using the Threading Module\n",
      "\n",
      "In this Python Programming video, we will be learning how to run threads concurrently using the threading module. We will also look at how to download multiple high-resolution images online using a ThreadPoolExecutor from the concurrent.futures module. Let’s get started…\n",
      "\n",
      "\n",
      "\n",
      "\n",
      "https://youtube.com/watch?v=IEEhzQoKtQU\n",
      "\n",
      "Update (2019-09-03)\n",
      "\n",
      "Hey everyone. I wanted to give you an update on my videos. I will be releasing videos on threading and multiprocessing within the next week. Thanks so much for your patience. I currently have a temporary recording studio setup at my Airbnb that will allow me to record and edit the threading/multiprocessing videos. I am going to be moving into my new house in 10 days and once I have my recording studio setup then you can expect much faster video releases. I really appreciate how patient everyone has been while I go through this move, especially those of you who are contributing monthly through YouTube \n",
      "\n",
      "None\n",
      "\n",
      "Python Quick Tip: The Difference Between “==” and “is” (Equality vs Identity)\n",
      "\n",
      "In this Python Programming Tutorial, we will be learning the difference between using “==” and the “is” keyword when doing comparisons. The difference between these is that “==” checks to see if values are equal, and the “is” keyword checks their identity, which means it’s going to check if the values are identical in terms of being the same object in memory. We’ll learn more in the video. Let’s get started…\n",
      "\n",
      "\n",
      "\n",
      "\n",
      "https://youtube.com/watch?v=mO_dS3rXDIs\n",
      "\n",
      "Python Tutorial: Calling External Commands Using the Subprocess Module\n",
      "\n",
      "In this Python Programming Tutorial, we will be learning how to run external commands using the subprocess module from the standard library. We will learn how to run commands, capture the output, handle errors, and also how to pipe output into other commands. Let’s get started…\n",
      "\n",
      "\n",
      "\n",
      "\n",
      "https://youtube.com/watch?v=2Fp1N6dof0Y\n",
      "\n",
      "Visual Studio Code (Windows) – Setting up a Python Development Environment and Complete Overview\n",
      "\n",
      "In this Python Programming Tutorial, we will be learning how to set up a Python development environment in VSCode on Windows. VSCode is a very nice free editor for writing Python applications and many developers are now switching over to this editor. In this video, we will learn how to install VSCode, get the Python extension installed, how to change Python interpreters, create virtual environments, format/lint our code, how to use Git within VSCode, how to debug our programs, how unit testing works, and more. We have a lot to cover, so let’s go ahead and get started…\n",
      "VSCode on MacOS – https://youtu.be/06I63_p-2A4\n",
      "Timestamps for topics in this tutorial: Installation – 1:13 Python Extension – 5:48 Switching Interpreters – 10:04 Changing Color Themes – 12:35 VSCode Settings – 16:16 Set Default Python – 21:33 Using Virtual Environments – 25:10 IntelliSense – 29:45 Code Formatting – 32:13 Code Linting – 37:06 Code Runner Extension – 39:42 Git Integration – 47:44 Use Different Terminal – 51:07 Debugging – 58:45 Unit Testing – 1:03:25 Zen Mode – 1:09:55\n",
      "\n",
      "\n",
      "\n",
      "\n",
      "https://youtube.com/watch?v=-nh9rCzPJ20\n",
      "\n",
      "Visual Studio Code (Mac) – Setting up a Python Development Environment and Complete Overview\n",
      "\n",
      "In this Python Programming Tutorial, we will be learning how to set up a Python development environment in VSCode on MacOS. VSCode is a very nice free editor for writing Python applications and many developers are now switching over to this editor. In this video, we will learn how to install VSCode, get the Python extension installed, how to change Python interpreters, create virtual environments, format/lint our code, how to use Git within VSCode, how to debug our programs, how unit testing works, and more. We have a lot to cover, so let’s go ahead and get started…\n",
      "VSCode on Windows – https://youtu.be/-nh9rCzPJ20\n",
      "Timestamps for topics in this tutorial: Installation – 1:11 Python Extension – 6:21 Switching Interpreters – 10:16 Changing Color Themes – 13:08 VSCode Settings – 17:12 Set Default Python – 22:24 Using Virtual Environments – 25:52 IntelliSense – 30:28 Code Formatting – 33:08 Code Linting – 38:01 Code Runner Extension – 40:45 Git Integration – 49:05 Debugging – 58:15 Unit Testing – 1:02:38 Zen Mode – 1:10:42 \n",
      "\n",
      "\n",
      "\n",
      "\n",
      "https://youtube.com/watch?v=06I63_p-2A4\n",
      "\n",
      "Clarifying the Issues with Mutable Default Arguments\n",
      "\n",
      "In this Python Programming Tutorial, we will be clarifying the issues with mutable default arguments. We discussed this in my last video titled “5 Common Python Mistakes and How to Fix Them”, but I received many comments from people who were still confused. So we will be doing a deeper dive to explain exactly what is going on here. Let’s get started…\n",
      "\n",
      "\n",
      "\n",
      "\n",
      "https://youtube.com/watch?v=_JGmemuINww\n",
      "\n"
     ]
    }
   ],
   "source": [
    "with open('cms_scrape.csv', 'w') as csv_file:\n",
    "    csv_writer = csv.writer(csv_file)\n",
    "    csv_writer.writerow(['Title', 'Summary', 'Video_links'])\n",
    "    \n",
    "    for article in soup.find_all('article'):\n",
    "        title = article.header.h2.a.text\n",
    "        summary = article.find('div', class_ = 'entry-content').text\n",
    "        try:\n",
    "            vid_id = article.find('iframe', class_ = 'youtube-player')['src']\n",
    "            vid_id = vid_id.split('/')[4]\n",
    "            vid_id = vid_id.split('?')[0]\n",
    "            yt_link = f'https://youtube.com/watch?v={vid_id}'\n",
    "        except Exception as e:\n",
    "            yt_link = None\n",
    "            \n",
    "        print(title)\n",
    "        print(summary)\n",
    "        print(yt_link)\n",
    "        print()\n",
    "        \n",
    "        csv_writer.writerow([title, summary, yt_link])"
   ]
  },
  {
   "cell_type": "code",
   "execution_count": null,
   "metadata": {},
   "outputs": [],
   "source": []
  }
 ],
 "metadata": {
  "kernelspec": {
   "display_name": "Python 3",
   "language": "python",
   "name": "python3"
  },
  "language_info": {
   "codemirror_mode": {
    "name": "ipython",
    "version": 3
   },
   "file_extension": ".py",
   "mimetype": "text/x-python",
   "name": "python",
   "nbconvert_exporter": "python",
   "pygments_lexer": "ipython3",
   "version": "3.7.3"
  }
 },
 "nbformat": 4,
 "nbformat_minor": 2
}
